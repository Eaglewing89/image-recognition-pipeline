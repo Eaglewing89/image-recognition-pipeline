{
 "cells": [
  {
   "cell_type": "markdown",
   "id": "d5496009",
   "metadata": {},
   "source": [
    "## Hyperparameter tuning"
   ]
  },
  {
   "cell_type": "markdown",
   "id": "0d83848c",
   "metadata": {},
   "source": [
    "### Setup"
   ]
  },
  {
   "cell_type": "code",
   "execution_count": 1,
   "id": "fdaef98b",
   "metadata": {},
   "outputs": [
    {
     "name": "stderr",
     "output_type": "stream",
     "text": [
      "2025/05/05 13:37:47 INFO mlflow.tracking.fluent: Experiment with name 'animals10' does not exist. Creating a new experiment.\n"
     ]
    },
    {
     "name": "stdout",
     "output_type": "stream",
     "text": [
      "Using device: cuda:0\n",
      "Found 22 training files and 3 test files\n",
      "\n",
      "Training data summary:\n",
      "Number of classes: 10\n",
      "Class names: ['spider', 'dog', 'chicken', 'horse', 'butterfly', 'squirrel', 'cow', 'sheep', 'cat', 'elephant']\n",
      "Class weights tensor shape: torch.Size([10])\n"
     ]
    }
   ],
   "source": [
    "# Config setup\n",
    "import config\n",
    "from functions.utility import analyze_webdataset\n",
    "import mlflow\n",
    "import torch\n",
    "import glob\n",
    "import os\n",
    "\n",
    "# Device configuration\n",
    "device = torch.device(\"cuda:0\" if torch.cuda.is_available() else \"cpu\")\n",
    "print(f\"Using device: {device}\")\n",
    "\n",
    "config.DEVICE = device\n",
    "\n",
    "# Configure MLflow\n",
    "mlflow.set_experiment(\"animals10\")\n",
    "\n",
    "# Define constants\n",
    "DATA_DIR = \"./data/webdataset/\"\n",
    "\n",
    "# Relative file paths\n",
    "config.TRAIN_PATHS = sorted(glob.glob(os.path.join(DATA_DIR, \"train-*.tar\")))\n",
    "config.TEST_PATHS = sorted(glob.glob(os.path.join(DATA_DIR, \"test-*.tar\")))\n",
    "\n",
    "print(f\"Found {len(config.TRAIN_PATHS)} training files and {len(config.TEST_PATHS)} test files\")\n",
    "\n",
    "num_classes, class_names, class_weights = analyze_webdataset(DATA_DIR, verbose=False)\n",
    "print(f\"\\nTraining data summary:\")\n",
    "print(f\"Number of classes: {num_classes}\")\n",
    "print(f\"Class names: {class_names}\")\n",
    "print(f\"Class weights tensor shape: {class_weights.shape}\")\n",
    "\n",
    "# Update the config module variables\n",
    "config.NUM_CLASSES = num_classes\n",
    "config.CLASS_NAMES = class_names\n",
    "config.CLASS_WEIGHTS = class_weights"
   ]
  },
  {
   "cell_type": "markdown",
   "id": "8ac8636f",
   "metadata": {},
   "source": [
    "### Hyperparameter search\n",
    "3 fold cross validation was used. \n",
    "\n",
    "Aggressive pruning by first fold minimum threshold as well as optunas median pruning strategy by running validation accuracy average after each fold. \n",
    "\n",
    "Metric used in optuna optimization is the lower bound of the average validation accuracy from the collective best epoch of all folds measured with the t-distribution at 80% confidence. \n",
    "\n",
    "Each trial is stored using ML Flow and can be viewed by typing mlflow ui in the terminal. \n",
    "\n",
    "Hyperparameter study from optuna uses SQLite and stored in the root project folder using db_path variable."
   ]
  },
  {
   "cell_type": "code",
   "execution_count": 2,
   "id": "61d816f1",
   "metadata": {},
   "outputs": [
    {
     "name": "stdout",
     "output_type": "stream",
     "text": [
      "Using SQLite storage at: sqlite:///optuna_animals10_kfold.db\n"
     ]
    },
    {
     "name": "stderr",
     "output_type": "stream",
     "text": [
      "[I 2025-05-05 13:38:05,227] A new study created in RDB with name: animals10_kfold\n"
     ]
    },
    {
     "name": "stdout",
     "output_type": "stream",
     "text": [
      "Could not load existing study: 'Record does not exist.'\n",
      "GPU memory: Allocated: 0.00 GB, Reserved: 0.00 GB\n",
      "Analyzing class distributions in 22 shards...\n",
      "Created 3 folds with the following statistics:\n",
      "Fold 1: 8 shards, 7344 samples\n",
      "  spider: 1525 samples (20.77%)\n",
      "  dog: 1350 samples (18.38%)\n",
      "  chicken: 852 samples (11.60%)\n",
      "  horse: 779 samples (10.61%)\n",
      "  butterfly: 584 samples (7.95%)\n",
      "  squirrel: 524 samples (7.14%)\n",
      "  cow: 483 samples (6.58%)\n",
      "  sheep: 501 samples (6.82%)\n",
      "  cat: 417 samples (5.68%)\n",
      "  elephant: 329 samples (4.48%)\n",
      "Fold 2: 7 shards, 7000 samples\n",
      "  spider: 1380 samples (19.71%)\n",
      "  dog: 1277 samples (18.24%)\n",
      "  chicken: 903 samples (12.90%)\n",
      "  horse: 693 samples (9.90%)\n",
      "  butterfly: 570 samples (8.14%)\n",
      "  squirrel: 495 samples (7.07%)\n",
      "  cow: 506 samples (7.23%)\n",
      "  sheep: 466 samples (6.66%)\n",
      "  cat: 395 samples (5.64%)\n",
      "  elephant: 315 samples (4.50%)\n",
      "Fold 3: 7 shards, 7000 samples\n",
      "  spider: 1408 samples (20.11%)\n",
      "  dog: 1247 samples (17.81%)\n",
      "  chicken: 855 samples (12.21%)\n",
      "  horse: 723 samples (10.33%)\n",
      "  butterfly: 532 samples (7.60%)\n",
      "  squirrel: 490 samples (7.00%)\n",
      "  cow: 478 samples (6.83%)\n",
      "  sheep: 480 samples (6.86%)\n",
      "  cat: 421 samples (6.01%)\n",
      "  elephant: 366 samples (5.23%)\n",
      "\n",
      "--- Fold 1/3 ---\n",
      "Training on 14 shards, validating on 8 shards\n",
      "Epoch 1/5\n"
     ]
    },
    {
     "data": {
      "application/vnd.jupyter.widget-view+json": {
       "model_id": "f40036c5abaa4407a6c8562568d0bbba",
       "version_major": 2,
       "version_minor": 0
      },
      "text/plain": [
       "Training: 0it [00:00, ?it/s]"
      ]
     },
     "metadata": {},
     "output_type": "display_data"
    },
    {
     "data": {
      "application/vnd.jupyter.widget-view+json": {
       "model_id": "7e7eca8f0e774086a3320ac8f1528da1",
       "version_major": 2,
       "version_minor": 0
      },
      "text/plain": [
       "Evaluating: 0it [00:00, ?it/s]"
      ]
     },
     "metadata": {},
     "output_type": "display_data"
    },
    {
     "name": "stdout",
     "output_type": "stream",
     "text": [
      "Train Loss: 2.0183, Train Acc: 50.59%\n",
      "Val Loss: 0.7174, Val Acc: 92.58%\n",
      "Epoch 2/5\n"
     ]
    },
    {
     "data": {
      "application/vnd.jupyter.widget-view+json": {
       "model_id": "1cd993393e9c438397c49d01b2a9ed3a",
       "version_major": 2,
       "version_minor": 0
      },
      "text/plain": [
       "Training: 0it [00:00, ?it/s]"
      ]
     },
     "metadata": {},
     "output_type": "display_data"
    },
    {
     "data": {
      "application/vnd.jupyter.widget-view+json": {
       "model_id": "c968ccccb9b145e0bf75db9337c1ddf4",
       "version_major": 2,
       "version_minor": 0
      },
      "text/plain": [
       "Evaluating: 0it [00:00, ?it/s]"
      ]
     },
     "metadata": {},
     "output_type": "display_data"
    },
    {
     "name": "stdout",
     "output_type": "stream",
     "text": [
      "Train Loss: 0.5424, Train Acc: 86.13%\n",
      "Val Loss: 0.2462, Val Acc: 94.92%\n",
      "Epoch 3/5\n"
     ]
    },
    {
     "data": {
      "application/vnd.jupyter.widget-view+json": {
       "model_id": "5da9c042592c4b0d9e4646bf6a75d1d9",
       "version_major": 2,
       "version_minor": 0
      },
      "text/plain": [
       "Training: 0it [00:00, ?it/s]"
      ]
     },
     "metadata": {},
     "output_type": "display_data"
    },
    {
     "name": "stderr",
     "output_type": "stream",
     "text": [
      "Exception ignored in: <function _MultiProcessingDataLoaderIter.__del__ at 0x7f4801d97600>\n",
      "Traceback (most recent call last):\n",
      "  File \"/home/eaglewing/repo/ml/image-recognition-pipeline/venv/lib/python3.12/site-packages/torch/utils/data/dataloader.py\", line 1663, in __del__\n",
      "    self._shutdown_workers()\n",
      "  File \"/home/eaglewing/repo/ml/image-recognition-pipeline/venv/lib/python3.12/site-packages/torch/utils/data/dataloader.py\", line 1646, in _shutdown_workers\n",
      "    if w.is_alive():\n",
      "       ^^^^^^^^^^^^\n",
      "  File \"/usr/local/lib/python3.12/multiprocessing/process.py\", line 160, in is_alive\n",
      "    assert self._parent_pid == os.getpid(), 'can only test a child process'\n",
      "           ^^^^^^^^^^^^^^^^^^^^^^^^^^^^^^^\n",
      "AssertionError: can only test a child process\n",
      "Exception ignored in: <function _MultiProcessingDataLoaderIter.__del__ at 0x7f4801d97600>\n",
      "Traceback (most recent call last):\n",
      "  File \"/home/eaglewing/repo/ml/image-recognition-pipeline/venv/lib/python3.12/site-packages/torch/utils/data/dataloader.py\", line 1663, in __del__\n",
      "    self._shutdown_workers()\n",
      "  File \"/home/eaglewing/repo/ml/image-recognition-pipeline/venv/lib/python3.12/site-packages/torch/utils/data/dataloader.py\", line 1646, in _shutdown_workers\n",
      "    if w.is_alive():\n",
      "       ^^^^^^^^^^^^\n",
      "  File \"/usr/local/lib/python3.12/multiprocessing/process.py\", line 160, in is_alive\n",
      "    assert self._parent_pid == os.getpid(), 'can only test a child process'\n",
      "           ^^^^^^^^^^^^^^^^^^^^^^^^^^^^^^^\n",
      "AssertionError: can only test a child process\n",
      "Exception ignored in: <function _MultiProcessingDataLoaderIter.__del__ at 0x7f4801d97600>\n",
      "Traceback (most recent call last):\n",
      "  File \"/home/eaglewing/repo/ml/image-recognition-pipeline/venv/lib/python3.12/site-packages/torch/utils/data/dataloader.py\", line 1663, in __del__\n",
      "    self._shutdown_workers()\n",
      "  File \"/home/eaglewing/repo/ml/image-recognition-pipeline/venv/lib/python3.12/site-packages/torch/utils/data/dataloader.py\", line 1646, in _shutdown_workers\n",
      "    if w.is_alive():\n",
      "       ^^^^^^^^^^^^\n",
      "  File \"/usr/local/lib/python3.12/multiprocessing/process.py\", line 160, in is_alive\n",
      "    assert self._parent_pid == os.getpid(), 'can only test a child process'\n",
      "           ^^^^^^^^^^^^^^^^^^^^^^^^^^^^^^^\n",
      "AssertionError: can only test a child process\n",
      "Exception ignored in: <function _MultiProcessingDataLoaderIter.__del__ at 0x7f4801d97600>\n",
      "Traceback (most recent call last):\n",
      "  File \"/home/eaglewing/repo/ml/image-recognition-pipeline/venv/lib/python3.12/site-packages/torch/utils/data/dataloader.py\", line 1663, in __del__\n",
      "    self._shutdown_workers()\n",
      "  File \"/home/eaglewing/repo/ml/image-recognition-pipeline/venv/lib/python3.12/site-packages/torch/utils/data/dataloader.py\", line 1646, in _shutdown_workers\n",
      "    if w.is_alive():\n",
      "       ^^^^^^^^^^^^\n",
      "  File \"/usr/local/lib/python3.12/multiprocessing/process.py\", line 160, in is_alive\n",
      "    assert self._parent_pid == os.getpid(), 'can only test a child process'\n",
      "           ^^^^^^^^^^^^^^^^^^^^^^^^^^^^^^^\n",
      "AssertionError: can only test a child process\n"
     ]
    },
    {
     "data": {
      "application/vnd.jupyter.widget-view+json": {
       "model_id": "11de0165b1cb4712964469922738c331",
       "version_major": 2,
       "version_minor": 0
      },
      "text/plain": [
       "Evaluating: 0it [00:00, ?it/s]"
      ]
     },
     "metadata": {},
     "output_type": "display_data"
    },
    {
     "name": "stdout",
     "output_type": "stream",
     "text": [
      "Train Loss: 0.3031, Train Acc: 92.38%\n",
      "Val Loss: 0.1756, Val Acc: 95.51%\n",
      "Epoch 4/5\n"
     ]
    },
    {
     "data": {
      "application/vnd.jupyter.widget-view+json": {
       "model_id": "e23f45ac3e2049dfbc31fdd33d03f55f",
       "version_major": 2,
       "version_minor": 0
      },
      "text/plain": [
       "Training: 0it [00:00, ?it/s]"
      ]
     },
     "metadata": {},
     "output_type": "display_data"
    },
    {
     "name": "stderr",
     "output_type": "stream",
     "text": [
      "Exception ignored in: <function _MultiProcessingDataLoaderIter.__del__ at 0x7f4801d97600>\n",
      "Traceback (most recent call last):\n",
      "  File \"/home/eaglewing/repo/ml/image-recognition-pipeline/venv/lib/python3.12/site-packages/torch/utils/data/dataloader.py\", line 1663, in __del__\n",
      "    self._shutdown_workers()\n",
      "  File \"/home/eaglewing/repo/ml/image-recognition-pipeline/venv/lib/python3.12/site-packages/torch/utils/data/dataloader.py\", line 1646, in _shutdown_workers\n",
      "    if w.is_alive():\n",
      "       ^^^^^^^^^^^^\n",
      "  File \"/usr/local/lib/python3.12/multiprocessing/process.py\", line 160, in is_alive\n",
      "    assert self._parent_pid == os.getpid(), 'can only test a child process'\n",
      "           ^^^^^^^^^^^^^^^^^^^^^^^^^^^^^^^\n",
      "AssertionError: can only test a child process\n",
      "Exception ignored in: <function _MultiProcessingDataLoaderIter.__del__ at 0x7f4801d97600>\n",
      "Traceback (most recent call last):\n",
      "  File \"/home/eaglewing/repo/ml/image-recognition-pipeline/venv/lib/python3.12/site-packages/torch/utils/data/dataloader.py\", line 1663, in __del__\n",
      "    self._shutdown_workers()\n",
      "  File \"/home/eaglewing/repo/ml/image-recognition-pipeline/venv/lib/python3.12/site-packages/torch/utils/data/dataloader.py\", line 1646, in _shutdown_workers\n",
      "    if w.is_alive():\n",
      "       ^^^^^^^^^^^^\n",
      "  File \"/usr/local/lib/python3.12/multiprocessing/process.py\", line 160, in is_alive\n",
      "    assert self._parent_pid == os.getpid(), 'can only test a child process'\n",
      "           ^^^^^^^^^^^^^^^^^^^^^^^^^^^^^^^\n",
      "AssertionError: can only test a child process\n",
      "Exception ignored in: <function _MultiProcessingDataLoaderIter.__del__ at 0x7f4801d97600>\n",
      "Traceback (most recent call last):\n",
      "  File \"/home/eaglewing/repo/ml/image-recognition-pipeline/venv/lib/python3.12/site-packages/torch/utils/data/dataloader.py\", line 1663, in __del__\n",
      "    self._shutdown_workers()\n",
      "  File \"/home/eaglewing/repo/ml/image-recognition-pipeline/venv/lib/python3.12/site-packages/torch/utils/data/dataloader.py\", line 1646, in _shutdown_workers\n",
      "    if w.is_alive():\n",
      "       ^^^^^^^^^^^^\n",
      "  File \"/usr/local/lib/python3.12/multiprocessing/process.py\", line 160, in is_alive\n",
      "    assert self._parent_pid == os.getpid(), 'can only test a child process'\n",
      "           ^^^^^^^^^^^^^^^^^^^^^^^^^^^^^^^\n",
      "AssertionError: can only test a child process\n",
      "Exception ignored in: <function _MultiProcessingDataLoaderIter.__del__ at 0x7f4801d97600>\n",
      "Traceback (most recent call last):\n",
      "  File \"/home/eaglewing/repo/ml/image-recognition-pipeline/venv/lib/python3.12/site-packages/torch/utils/data/dataloader.py\", line 1663, in __del__\n",
      "    self._shutdown_workers()\n",
      "  File \"/home/eaglewing/repo/ml/image-recognition-pipeline/venv/lib/python3.12/site-packages/torch/utils/data/dataloader.py\", line 1646, in _shutdown_workers\n",
      "    if w.is_alive():\n",
      "       ^^^^^^^^^^^^\n",
      "  File \"/usr/local/lib/python3.12/multiprocessing/process.py\", line 160, in is_alive\n",
      "    assert self._parent_pid == os.getpid(), 'can only test a child process'\n",
      "           ^^^^^^^^^^^^^^^^^^^^^^^^^^^^^^^\n",
      "AssertionError: can only test a child process\n",
      "Exception ignored in: <function _MultiProcessingDataLoaderIter.__del__ at 0x7f4801d97600>\n",
      "Traceback (most recent call last):\n",
      "  File \"/home/eaglewing/repo/ml/image-recognition-pipeline/venv/lib/python3.12/site-packages/torch/utils/data/dataloader.py\", line 1663, in __del__\n",
      "    self._shutdown_workers()\n",
      "  File \"/home/eaglewing/repo/ml/image-recognition-pipeline/venv/lib/python3.12/site-packages/torch/utils/data/dataloader.py\", line 1646, in _shutdown_workers\n",
      "    if w.is_alive():\n",
      "       ^^^^^^^^^^^^\n",
      "  File \"/usr/local/lib/python3.12/multiprocessing/process.py\", line 160, in is_alive\n",
      "    assert self._parent_pid == os.getpid(), 'can only test a child process'\n",
      "           ^^^^^^^^^^^^^^^^^^^^^^^^^^^^^^^\n",
      "AssertionError: can only test a child process\n"
     ]
    },
    {
     "data": {
      "application/vnd.jupyter.widget-view+json": {
       "model_id": "8139398800cd44ec82f9a06f1110d55d",
       "version_major": 2,
       "version_minor": 0
      },
      "text/plain": [
       "Evaluating: 0it [00:00, ?it/s]"
      ]
     },
     "metadata": {},
     "output_type": "display_data"
    },
    {
     "name": "stderr",
     "output_type": "stream",
     "text": [
      "Exception ignored in: <function _MultiProcessingDataLoaderIter.__del__ at 0x7f4801d97600>\n",
      "Traceback (most recent call last):\n",
      "  File \"/home/eaglewing/repo/ml/image-recognition-pipeline/venv/lib/python3.12/site-packages/torch/utils/data/dataloader.py\", line 1663, in __del__\n",
      "    self._shutdown_workers()\n",
      "Exception ignored in:   File \"/home/eaglewing/repo/ml/image-recognition-pipeline/venv/lib/python3.12/site-packages/torch/utils/data/dataloader.py\", line 1646, in _shutdown_workers\n",
      "    <function _MultiProcessingDataLoaderIter.__del__ at 0x7f4801d97600>\n",
      "if w.is_alive():Traceback (most recent call last):\n",
      "\n",
      "  File \"/home/eaglewing/repo/ml/image-recognition-pipeline/venv/lib/python3.12/site-packages/torch/utils/data/dataloader.py\", line 1663, in __del__\n",
      "      self._shutdown_workers() \n",
      "  File \"/home/eaglewing/repo/ml/image-recognition-pipeline/venv/lib/python3.12/site-packages/torch/utils/data/dataloader.py\", line 1646, in _shutdown_workers\n",
      "      if w.is_alive(): \n",
      "  ^ ^ ^^  ^ ^ ^^^^^^^^^^^^\n",
      "^  File \"/usr/local/lib/python3.12/multiprocessing/process.py\", line 160, in is_alive\n",
      "^    ^assert self._parent_pid == os.getpid(), 'can only test a child process'^\n",
      "^ ^ \n",
      "   File \"/usr/local/lib/python3.12/multiprocessing/process.py\", line 160, in is_alive\n",
      "      assert self._parent_pid == os.getpid(), 'can only test a child process' \n",
      "          ^^  ^ ^ ^ ^ ^^^^^^^^^^^^^^^^^^^^^^^^^^^^^^^^^^^^^^^^^^^^^^^^^^^\n",
      "^AssertionError^: ^can only test a child process^\n",
      "^\n",
      "AssertionError: can only test a child process\n"
     ]
    },
    {
     "name": "stdout",
     "output_type": "stream",
     "text": [
      "Train Loss: 0.1833, Train Acc: 95.02%\n",
      "Val Loss: 0.1302, Val Acc: 97.27%\n",
      "Epoch 5/5\n"
     ]
    },
    {
     "data": {
      "application/vnd.jupyter.widget-view+json": {
       "model_id": "93e4f96834134298bed7e33172628c91",
       "version_major": 2,
       "version_minor": 0
      },
      "text/plain": [
       "Training: 0it [00:00, ?it/s]"
      ]
     },
     "metadata": {},
     "output_type": "display_data"
    },
    {
     "name": "stderr",
     "output_type": "stream",
     "text": [
      "Exception ignored in: <function _MultiProcessingDataLoaderIter.__del__ at 0x7f4801d97600>\n",
      "Traceback (most recent call last):\n",
      "  File \"/home/eaglewing/repo/ml/image-recognition-pipeline/venv/lib/python3.12/site-packages/torch/utils/data/dataloader.py\", line 1663, in __del__\n",
      "    self._shutdown_workers()\n",
      "  File \"/home/eaglewing/repo/ml/image-recognition-pipeline/venv/lib/python3.12/site-packages/torch/utils/data/dataloader.py\", line 1646, in _shutdown_workers\n",
      "    if w.is_alive():\n",
      "       ^^^^^^^^^^^^\n",
      "  File \"/usr/local/lib/python3.12/multiprocessing/process.py\", line 160, in is_alive\n",
      "    assert self._parent_pid == os.getpid(), 'can only test a child process'\n",
      "           ^^^^^^^^^^^^^^^^^^^^^^^^^^^^^^^\n",
      "AssertionError: can only test a child process\n",
      "Exception ignored in: <function _MultiProcessingDataLoaderIter.__del__ at 0x7f4801d97600>\n",
      "Traceback (most recent call last):\n",
      "  File \"/home/eaglewing/repo/ml/image-recognition-pipeline/venv/lib/python3.12/site-packages/torch/utils/data/dataloader.py\", line 1663, in __del__\n",
      "    self._shutdown_workers()\n",
      "  File \"/home/eaglewing/repo/ml/image-recognition-pipeline/venv/lib/python3.12/site-packages/torch/utils/data/dataloader.py\", line 1646, in _shutdown_workers\n",
      "    if w.is_alive():\n",
      "       ^^^^^^^^^^^^\n",
      "  File \"/usr/local/lib/python3.12/multiprocessing/process.py\", line 160, in is_alive\n",
      "    assert self._parent_pid == os.getpid(), 'can only test a child process'\n",
      "           ^^^^^^^^^^^^^^^^^^^^^^^^^^^^^^^\n",
      "AssertionError: can only test a child process\n",
      "Exception ignored in: <function _MultiProcessingDataLoaderIter.__del__ at 0x7f4801d97600>\n",
      "Traceback (most recent call last):\n",
      "  File \"/home/eaglewing/repo/ml/image-recognition-pipeline/venv/lib/python3.12/site-packages/torch/utils/data/dataloader.py\", line 1663, in __del__\n",
      "    self._shutdown_workers()\n",
      "  File \"/home/eaglewing/repo/ml/image-recognition-pipeline/venv/lib/python3.12/site-packages/torch/utils/data/dataloader.py\", line 1646, in _shutdown_workers\n",
      "    if w.is_alive():\n",
      "       ^^^^^^^^^^^^\n",
      "  File \"/usr/local/lib/python3.12/multiprocessing/process.py\", line 160, in is_alive\n",
      "    assert self._parent_pid == os.getpid(), 'can only test a child process'\n",
      "           ^^^^^^^^^^^^^^^^^^^^^^^^^^^^^^^\n",
      "AssertionError: can only test a child process\n",
      "Exception ignored in: <function _MultiProcessingDataLoaderIter.__del__ at 0x7f4801d97600>\n",
      "Traceback (most recent call last):\n",
      "  File \"/home/eaglewing/repo/ml/image-recognition-pipeline/venv/lib/python3.12/site-packages/torch/utils/data/dataloader.py\", line 1663, in __del__\n",
      "    self._shutdown_workers()\n",
      "  File \"/home/eaglewing/repo/ml/image-recognition-pipeline/venv/lib/python3.12/site-packages/torch/utils/data/dataloader.py\", line 1646, in _shutdown_workers\n",
      "    if w.is_alive():\n",
      "       ^^^^^^^^^^^^\n",
      "  File \"/usr/local/lib/python3.12/multiprocessing/process.py\", line 160, in is_alive\n",
      "    assert self._parent_pid == os.getpid(), 'can only test a child process'\n",
      "           ^^^^^^^^^^^^^^^^^^^^^^^^^^^^^^^\n",
      "AssertionError: can only test a child process\n",
      "Exception ignored in: <function _MultiProcessingDataLoaderIter.__del__ at 0x7f4801d97600>\n",
      "Traceback (most recent call last):\n",
      "  File \"/home/eaglewing/repo/ml/image-recognition-pipeline/venv/lib/python3.12/site-packages/torch/utils/data/dataloader.py\", line 1663, in __del__\n",
      "    self._shutdown_workers()\n",
      "  File \"/home/eaglewing/repo/ml/image-recognition-pipeline/venv/lib/python3.12/site-packages/torch/utils/data/dataloader.py\", line 1646, in _shutdown_workers\n",
      "    if w.is_alive():\n",
      "       ^^^^^^^^^^^^\n",
      "  File \"/usr/local/lib/python3.12/multiprocessing/process.py\", line 160, in is_alive\n",
      "    assert self._parent_pid == os.getpid(), 'can only test a child process'\n",
      "           ^^^^^^^^^^^^^^^^^^^^^^^^^^^^^^^\n",
      "AssertionError: can only test a child process\n",
      "Exception ignored in: <function _MultiProcessingDataLoaderIter.__del__ at 0x7f4801d97600>\n",
      "Traceback (most recent call last):\n",
      "  File \"/home/eaglewing/repo/ml/image-recognition-pipeline/venv/lib/python3.12/site-packages/torch/utils/data/dataloader.py\", line 1663, in __del__\n",
      "    self._shutdown_workers()\n",
      "  File \"/home/eaglewing/repo/ml/image-recognition-pipeline/venv/lib/python3.12/site-packages/torch/utils/data/dataloader.py\", line 1646, in _shutdown_workers\n",
      "    if w.is_alive():\n",
      "       ^^^^^^^^^^^^\n",
      "  File \"/usr/local/lib/python3.12/multiprocessing/process.py\", line 160, in is_alive\n",
      "    assert self._parent_pid == os.getpid(), 'can only test a child process'\n",
      "           ^^^^^^^^^^^^^^^^^^^^^^^^^^^^^^^\n",
      "AssertionError: can only test a child process\n"
     ]
    },
    {
     "data": {
      "application/vnd.jupyter.widget-view+json": {
       "model_id": "f91314b42033412da3a72ac4f6ead9c6",
       "version_major": 2,
       "version_minor": 0
      },
      "text/plain": [
       "Evaluating: 0it [00:00, ?it/s]"
      ]
     },
     "metadata": {},
     "output_type": "display_data"
    },
    {
     "name": "stderr",
     "output_type": "stream",
     "text": [
      "Exception ignored in: Exception ignored in: <function _MultiProcessingDataLoaderIter.__del__ at 0x7f4801d97600><function _MultiProcessingDataLoaderIter.__del__ at 0x7f4801d97600>\n",
      "\n",
      "Traceback (most recent call last):\n",
      "Traceback (most recent call last):\n",
      "  File \"/home/eaglewing/repo/ml/image-recognition-pipeline/venv/lib/python3.12/site-packages/torch/utils/data/dataloader.py\", line 1663, in __del__\n",
      "  File \"/home/eaglewing/repo/ml/image-recognition-pipeline/venv/lib/python3.12/site-packages/torch/utils/data/dataloader.py\", line 1663, in __del__\n",
      "  File \"/home/eaglewing/repo/ml/image-recognition-pipeline/venv/lib/python3.12/site-packages/torch/utils/data/dataloader.py\", line 1646, in _shutdown_workers\n",
      "  File \"/usr/local/lib/python3.12/multiprocessing/process.py\", line 160, in is_alive\n",
      "    AssertionErrorself._shutdown_workers(): \n",
      "can only test a child process  File \"/home/eaglewing/repo/ml/image-recognition-pipeline/venv/lib/python3.12/site-packages/torch/utils/data/dataloader.py\", line 1646, in _shutdown_workers\n",
      "\n",
      "    if w.is_alive():Exception ignored in: <function _MultiProcessingDataLoaderIter.__del__ at 0x7f4801d97600>\n",
      "\n",
      " Traceback (most recent call last):\n",
      "   File \"/home/eaglewing/repo/ml/image-recognition-pipeline/venv/lib/python3.12/site-packages/torch/utils/data/dataloader.py\", line 1663, in __del__\n",
      "   File \"/home/eaglewing/repo/ml/image-recognition-pipeline/venv/lib/python3.12/site-packages/torch/utils/data/dataloader.py\", line 1646, in _shutdown_workers\n",
      "   File \"/usr/local/lib/python3.12/multiprocessing/process.py\", line 160, in is_alive\n",
      " AssertionError:  can only test a child process\n",
      " ^Exception ignored in: <function _MultiProcessingDataLoaderIter.__del__ at 0x7f4801d97600>\n",
      "^Traceback (most recent call last):\n",
      "^  File \"/home/eaglewing/repo/ml/image-recognition-pipeline/venv/lib/python3.12/site-packages/torch/utils/data/dataloader.py\", line 1663, in __del__\n",
      "^  File \"/home/eaglewing/repo/ml/image-recognition-pipeline/venv/lib/python3.12/site-packages/torch/utils/data/dataloader.py\", line 1646, in _shutdown_workers\n",
      "^  File \"/usr/local/lib/python3.12/multiprocessing/process.py\", line 160, in is_alive\n",
      "^AssertionError^: ^can only test a child process^\n",
      "^^Exception ignored in: ^<function _MultiProcessingDataLoaderIter.__del__ at 0x7f4801d97600>\n",
      "\n",
      "  File \"/usr/local/lib/python3.12/multiprocessing/process.py\", line 160, in is_alive\n",
      "Traceback (most recent call last):\n",
      "  File \"/home/eaglewing/repo/ml/image-recognition-pipeline/venv/lib/python3.12/site-packages/torch/utils/data/dataloader.py\", line 1663, in __del__\n",
      "      File \"/home/eaglewing/repo/ml/image-recognition-pipeline/venv/lib/python3.12/site-packages/torch/utils/data/dataloader.py\", line 1646, in _shutdown_workers\n",
      "assert self._parent_pid == os.getpid(), 'can only test a child process'  File \"/usr/local/lib/python3.12/multiprocessing/process.py\", line 160, in is_alive\n",
      "\n",
      "AssertionError :  can only test a child process \n",
      " Exception ignored in:  <function _MultiProcessingDataLoaderIter.__del__ at 0x7f4801d97600> \n",
      " Traceback (most recent call last):\n",
      "   File \"/home/eaglewing/repo/ml/image-recognition-pipeline/venv/lib/python3.12/site-packages/torch/utils/data/dataloader.py\", line 1663, in __del__\n",
      "   File \"/home/eaglewing/repo/ml/image-recognition-pipeline/venv/lib/python3.12/site-packages/torch/utils/data/dataloader.py\", line 1646, in _shutdown_workers\n",
      "   File \"/usr/local/lib/python3.12/multiprocessing/process.py\", line 160, in is_alive\n",
      " AssertionError^: ^can only test a child process^\n",
      "^Exception ignored in: ^<function _MultiProcessingDataLoaderIter.__del__ at 0x7f4801d97600>^\n",
      "^Traceback (most recent call last):\n",
      "^  File \"/home/eaglewing/repo/ml/image-recognition-pipeline/venv/lib/python3.12/site-packages/torch/utils/data/dataloader.py\", line 1663, in __del__\n",
      "^  File \"/home/eaglewing/repo/ml/image-recognition-pipeline/venv/lib/python3.12/site-packages/torch/utils/data/dataloader.py\", line 1646, in _shutdown_workers\n",
      "^  File \"/usr/local/lib/python3.12/multiprocessing/process.py\", line 160, in is_alive\n",
      "^AssertionError^: ^^can only test a child process\n",
      "^^Exception ignored in: ^^^<function _MultiProcessingDataLoaderIter.__del__ at 0x7f4801d97600>^\n",
      "^Traceback (most recent call last):\n",
      "^  File \"/home/eaglewing/repo/ml/image-recognition-pipeline/venv/lib/python3.12/site-packages/torch/utils/data/dataloader.py\", line 1663, in __del__\n",
      "^  File \"/home/eaglewing/repo/ml/image-recognition-pipeline/venv/lib/python3.12/site-packages/torch/utils/data/dataloader.py\", line 1646, in _shutdown_workers\n",
      "^^  File \"/usr/local/lib/python3.12/multiprocessing/process.py\", line 160, in is_alive\n",
      "AssertionError^: ^^can only test a child process^\n",
      "^^\n",
      "AssertionError: can only test a child process\n",
      "Exception ignored in: <function _MultiProcessingDataLoaderIter.__del__ at 0x7f4801d97600>\n",
      "Traceback (most recent call last):\n",
      "  File \"/home/eaglewing/repo/ml/image-recognition-pipeline/venv/lib/python3.12/site-packages/torch/utils/data/dataloader.py\", line 1663, in __del__\n",
      "    self._shutdown_workers()\n",
      "  File \"/home/eaglewing/repo/ml/image-recognition-pipeline/venv/lib/python3.12/site-packages/torch/utils/data/dataloader.py\", line 1646, in _shutdown_workers\n",
      "    if w.is_alive():\n",
      "       ^^^^^^^^^^^^\n",
      "  File \"/usr/local/lib/python3.12/multiprocessing/process.py\", line 160, in is_alive\n",
      "    assert self._parent_pid == os.getpid(), 'can only test a child process'\n",
      "           ^^^^^^^^^^^^^^^^^^^^^^^^^^^^^^^\n",
      "AssertionError: can only test a child process\n",
      "Exception ignored in: <function _MultiProcessingDataLoaderIter.__del__ at 0x7f4801d97600>\n",
      "Traceback (most recent call last):\n",
      "  File \"/home/eaglewing/repo/ml/image-recognition-pipeline/venv/lib/python3.12/site-packages/torch/utils/data/dataloader.py\", line 1663, in __del__\n",
      "    self._shutdown_workers()\n",
      "  File \"/home/eaglewing/repo/ml/image-recognition-pipeline/venv/lib/python3.12/site-packages/torch/utils/data/dataloader.py\", line 1646, in _shutdown_workers\n",
      "    if w.is_alive():\n",
      "       ^^^^^^^^^^^^\n",
      "  File \"/usr/local/lib/python3.12/multiprocessing/process.py\", line 160, in is_alive\n",
      "    assert self._parent_pid == os.getpid(), 'can only test a child process'\n",
      "           ^^^^^^^^^^^^^^^^^^^^^^^^^^^^^^^\n",
      "AssertionError: can only test a child process\n",
      "Exception ignored in: <function _MultiProcessingDataLoaderIter.__del__ at 0x7f4801d97600>\n",
      "Traceback (most recent call last):\n",
      "  File \"/home/eaglewing/repo/ml/image-recognition-pipeline/venv/lib/python3.12/site-packages/torch/utils/data/dataloader.py\", line 1663, in __del__\n",
      "    self._shutdown_workers()\n",
      "  File \"/home/eaglewing/repo/ml/image-recognition-pipeline/venv/lib/python3.12/site-packages/torch/utils/data/dataloader.py\", line 1646, in _shutdown_workers\n",
      "    if w.is_alive():\n",
      "       ^^^^^^^^^^^^\n",
      "  File \"/usr/local/lib/python3.12/multiprocessing/process.py\", line 160, in is_alive\n",
      "    assert self._parent_pid == os.getpid(), 'can only test a child process'\n",
      "           ^^^^^^^^^^^^^^^^^^^^^^^^^^^^^^^\n",
      "AssertionError: can only test a child process\n",
      "Exception ignored in: <function _MultiProcessingDataLoaderIter.__del__ at 0x7f4801d97600>\n",
      "Traceback (most recent call last):\n",
      "  File \"/home/eaglewing/repo/ml/image-recognition-pipeline/venv/lib/python3.12/site-packages/torch/utils/data/dataloader.py\", line 1663, in __del__\n",
      "    self._shutdown_workers()\n",
      "  File \"/home/eaglewing/repo/ml/image-recognition-pipeline/venv/lib/python3.12/site-packages/torch/utils/data/dataloader.py\", line 1646, in _shutdown_workers\n",
      "    if w.is_alive():\n",
      "       ^^^^^^^^^^^^\n",
      "  File \"/usr/local/lib/python3.12/multiprocessing/process.py\", line 160, in is_alive\n",
      "    assert self._parent_pid == os.getpid(), 'can only test a child process'\n",
      "           ^^^^^^^^^^^^^^^^^^^^^^^^^^^^^^^\n",
      "AssertionError: can only test a child process\n",
      "Exception ignored in: <function _MultiProcessingDataLoaderIter.__del__ at 0x7f4801d97600>\n",
      "Traceback (most recent call last):\n",
      "  File \"/home/eaglewing/repo/ml/image-recognition-pipeline/venv/lib/python3.12/site-packages/torch/utils/data/dataloader.py\", line 1663, in __del__\n",
      "    self._shutdown_workers()\n",
      "  File \"/home/eaglewing/repo/ml/image-recognition-pipeline/venv/lib/python3.12/site-packages/torch/utils/data/dataloader.py\", line 1646, in _shutdown_workers\n",
      "    if w.is_alive():\n",
      "       ^^^^^^^^^^^^\n",
      "  File \"/usr/local/lib/python3.12/multiprocessing/process.py\", line 160, in is_alive\n",
      "    assert self._parent_pid == os.getpid(), 'can only test a child process'\n",
      "           ^^^^^^^^^^^^^^^^^^^^^^^^^^^^^^^\n",
      "AssertionError: can only test a child process\n",
      "Exception ignored in: <function _MultiProcessingDataLoaderIter.__del__ at 0x7f4801d97600>\n",
      "Traceback (most recent call last):\n",
      "  File \"/home/eaglewing/repo/ml/image-recognition-pipeline/venv/lib/python3.12/site-packages/torch/utils/data/dataloader.py\", line 1663, in __del__\n",
      "    self._shutdown_workers()\n",
      "  File \"/home/eaglewing/repo/ml/image-recognition-pipeline/venv/lib/python3.12/site-packages/torch/utils/data/dataloader.py\", line 1646, in _shutdown_workers\n",
      "    if w.is_alive():\n",
      "       ^^^^^^^^^^^^\n",
      "  File \"/usr/local/lib/python3.12/multiprocessing/process.py\", line 160, in is_alive\n",
      "    assert self._parent_pid == os.getpid(), 'can only test a child process'\n",
      "           ^^^^^^^^^^^^^^^^^^^^^^^^^^^^^^^\n",
      "AssertionError: can only test a child process\n"
     ]
    },
    {
     "name": "stdout",
     "output_type": "stream",
     "text": [
      "Train Loss: 0.1496, Train Acc: 96.09%\n",
      "Val Loss: 0.1417, Val Acc: 96.48%\n",
      "\n",
      "--- Fold 2/3 ---\n",
      "Training on 15 shards, validating on 7 shards\n",
      "\n",
      "--- Fold 3/3 ---\n",
      "Training on 15 shards, validating on 7 shards\n"
     ]
    },
    {
     "name": "stderr",
     "output_type": "stream",
     "text": [
      "[I 2025-05-05 13:40:07,741] Trial 0 finished with value: 97.37686928076316 and parameters: {'learning_rate': 0.0001329291894316216, 'batch_size': 8, 'weight_decay': 2.9380279387035354e-06, 'dropout_rate': 0.07799726016810132, 'augmentation_intensity': 'medium', 'patience': 4, 'max_epochs': 5}. Best is trial 0 with value: 97.37686928076316.\n"
     ]
    },
    {
     "name": "stdout",
     "output_type": "stream",
     "text": [
      "Best avg validation at epoch 4: 97.53% ± 0.24%\n",
      "Objective value - t-dist Lower confidence bound (80.0%): 97.38%\n",
      "\n",
      "K-Fold Study statistics:\n",
      "  Number of finished trials: 1\n",
      "  Number of pruned trials: 0\n",
      "  Best trial:\n",
      "    Value: 97.37686928076316 t-dist 80% lower bound\n",
      "    Params:\n",
      "      learning_rate: 0.0001329291894316216\n",
      "      batch_size: 8\n",
      "      weight_decay: 2.9380279387035354e-06\n",
      "      dropout_rate: 0.07799726016810132\n",
      "      augmentation_intensity: medium\n",
      "      patience: 4\n",
      "      max_epochs: 5\n"
     ]
    }
   ],
   "source": [
    "# Run the k-fold cross validation optimization\n",
    "from functions.hyperopt import run_kfold_optuna_optimization\n",
    "db_path = \"optuna_animals10_kfold.db\"\n",
    "k_fold_study = run_kfold_optuna_optimization(\n",
    "    n_trials=1,      # Number of trials\n",
    "    k=3,             # Number of folds\n",
    "    verbose=True,   # Reduce output\n",
    "    storage=db_path, # Store results in SQLite\n",
    "    load_if_exists=True,\n",
    "    first_fold_min_acc=90.0  # Minimum accuracy for the first fold\n",
    ")"
   ]
  }
 ],
 "metadata": {
  "kernelspec": {
   "display_name": "venv",
   "language": "python",
   "name": "python3"
  },
  "language_info": {
   "codemirror_mode": {
    "name": "ipython",
    "version": 3
   },
   "file_extension": ".py",
   "mimetype": "text/x-python",
   "name": "python",
   "nbconvert_exporter": "python",
   "pygments_lexer": "ipython3",
   "version": "3.12.10"
  }
 },
 "nbformat": 4,
 "nbformat_minor": 5
}
